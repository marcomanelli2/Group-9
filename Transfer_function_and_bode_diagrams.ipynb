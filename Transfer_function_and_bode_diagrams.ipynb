{
 "cells": [
  {
   "cell_type": "markdown",
   "id": "ed487d51",
   "metadata": {},
   "source": [
    "### Defining the A, B, C and D matrices in order to obtain the transfer function H (state-space representation)\n",
    "\n",
    "Writing the system of second order differential equations of the analysed system. The dimension of the system depends on the number of degress of freedom  \n",
    "\n",
    "$$\n",
    "M \\ddot{\\underline{x}} + C \\dot{\\underline{x}} + K \\underline{x} = \\underline{F}\n",
    "$$\n",
    "\n",
    "Converting a system of $n$ second order differential equations to a system of 2$n$ first order differential equations\n",
    "\n",
    "$$\n",
    "\\begin{cases} M \\dot{\\underline{v}}  + C \\underline{v} + K \\underline{x} = \\underline{F} \\\\ \\dot{\\underline{x}}=\\underline{v} \\end{cases} \n",
    "$$\n",
    "\n",
    "Rewriting the system in the state-space form:\n",
    "\n",
    "$$\n",
    "\\begin{cases} \\dot{\\underline{v}} = - M^{-1} C \\underline{v} - M^{-1} K \\underline{x} + M^{-1}\\underline{F} \\\\ \\dot{\\underline{x}} = \\underline{v} \\end{cases} \n",
    "$$\n",
    "\n",
    "$$\n",
    " \\begin{bmatrix} \\dot{\\underline{x}} \\\\ \\dot{\\underline{v}} \\end{bmatrix} = \\begin{bmatrix} \\underline{\\underline{0}} & \\underline{\\underline{I}} \\\\-M^{-1}K & -M^{-1}C \\end{bmatrix}  \\begin{bmatrix} \\underline{x} \\\\ \\underline{v} \\end{bmatrix} +  \\begin{bmatrix} \\underline{\\underline{0}} \\\\ M^{-1} \\end{bmatrix} \\underline{F} \n",
    "$$\n",
    "\n",
    "Having chosen the position of the masses as the output $y$\n",
    "$$\n",
    "\\underline{y} = \\underline{x} =  \\begin{bmatrix} \\underline{\\underline{I}} & \\underline{\\underline{0}} \\end{bmatrix}  \\begin{bmatrix} \\underline{x} \\\\ \\underline{v} \\end{bmatrix} + [\\underline{\\underline{0}}] \\underline{F}\n",
    "$$"
   ]
  },
  {
   "cell_type": "code",
   "execution_count": 1,
   "id": "075d46d6",
   "metadata": {},
   "outputs": [
    {
     "ename": "LoadError",
     "evalue": "UndefVarError: M not defined",
     "output_type": "error",
     "traceback": [
      "UndefVarError: M not defined",
      "",
      "Stacktrace:",
      " [1] top-level scope",
      "   @ In[1]:3"
     ]
    }
   ],
   "source": [
    "#Given M, C and K\n",
    "\n",
    "n=size(M,1)\n",
    "\n",
    "# Define the system matrices\n",
    "A = spzeros(2n, 2n)\n",
    "B = spzeros(2n, n)\n",
    "CC = spzeros(n, 2n)\n",
    "\n",
    "\n",
    "#First quarter stays as it is\n",
    "\n",
    "#Second quarter\n",
    "\n",
    "A[1:n,n+1:2n]=Matrix(1I,n,n)\n",
    "\n",
    "#Third quarter of the A matrix (Stiffness)\n",
    "\n",
    "A[n+1:2n,1:n]=-M\\K\n",
    "\n",
    "#Fourth quarter of the A matrix (Damping)\n",
    "\n",
    "A[n+1:2n,n+1:2n]=-M\\C\n",
    "\n",
    "dropzeros!(A)\n",
    "\n",
    "#B matrix\n",
    "\n",
    "B[n+1:2n,1:n]=inv(M)\n",
    "\n",
    "dropzeros!(B)\n",
    "\n",
    "#CC matrix\n",
    "\n",
    "CC[1:n, 1:n]=Matrix(1I,n,n)\n",
    "\n",
    "dropzeros!(CC)\n",
    "\n",
    "#Transfer Function\n",
    "\n",
    "H = ss(A,B,CC,0)\n"
   ]
  },
  {
   "cell_type": "markdown",
   "id": "740665d9",
   "metadata": {},
   "source": [
    "### Finding and saving the eigenvalues and eigenvectors of every transfer function corresponding to a specific frequency $\\omega$ so it is possible to compare them with Bode diagrams   "
   ]
  },
  {
   "cell_type": "code",
   "execution_count": null,
   "id": "b3f81a96",
   "metadata": {},
   "outputs": [],
   "source": [
    "#N-DIMENSION\n",
    "#insert N\n",
    "\n",
    "N=size(M,1)\n",
    "\n",
    "using LinearMaps\n",
    "using IterativeSolvers\n",
    "using LaTeXStrings\n",
    "\n",
    "#studying system amplification through eigenvalues of the transfer matrix\n",
    "\n",
    "w = LinRange(0.01, 100, 10000)  #frequency range\n",
    "lamb = spzeros(length(w))\n",
    "eigvectors = rand(ComplexF64,length(w),N)\n",
    "\n",
    "for j in 1:length(w)\n",
    "    om = w[j]\n",
    "    G = -om^(2)*M + im*C*om + K  #creating the inverse transfer function related to this frequency\n",
    "    F = lu(G)\n",
    "    Fmap = LinearMap{ComplexF64}((y, x) -> ldiv!(y, F, x), N, ismutating = true)\n",
    "    lambda, x = invpowm(Fmap, shift = 0, tol = 1e-8, maxiter = 1000)  #finding minimum eig in absolute value\n",
    "    lambda = abs(lambda);\n",
    "    eigvectors[j,:] = x\n",
    "    lambda = 1/lambda  #finding eig of the transfer function\n",
    "    lamb[j] = lambda  #saving the value\n",
    "end"
   ]
  },
  {
   "cell_type": "markdown",
   "id": "bdd6dc98",
   "metadata": {},
   "source": [
    "### Overlapping all Bode diagrams and comparing them with the maximum eigenvalue of H for each $\\omega$"
   ]
  },
  {
   "cell_type": "code",
   "execution_count": null,
   "id": "ebe6751f",
   "metadata": {},
   "outputs": [],
   "source": [
    "#plots\n",
    "\n",
    "plot(w,lamb,label=L\"$\\lambda_{max}$\", linewidth=1.5, linecolor=:red, xaxis=:log, yaxis=:log)\n",
    "\n",
    "\n",
    "for i in 1:size(H,1)\n",
    "    for j in 1:size(H,2)\n",
    "        bodeplot!(H[i,j], linewidth=0.2, linecolor=:green, plotphase=false, label=\"\", ylim=(10e-10,10e5))\n",
    "    end\n",
    "end\n",
    "\n",
    "\n",
    "#xlabel=L\"\\omega\",ylabel=\"System Amplification\",\n",
    "\n",
    "savefig(\"bode_diagram.pdf\")"
   ]
  }
 ],
 "metadata": {
  "kernelspec": {
   "display_name": "Julia 1.8.5",
   "language": "julia",
   "name": "julia-1.8"
  },
  "language_info": {
   "file_extension": ".jl",
   "mimetype": "application/julia",
   "name": "julia",
   "version": "1.8.5"
  }
 },
 "nbformat": 4,
 "nbformat_minor": 5
}
